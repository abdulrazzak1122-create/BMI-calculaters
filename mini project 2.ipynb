{
 "cells": [
  {
   "cell_type": "code",
   "execution_count": null,
   "id": "de490549-209a-4c52-8214-8509aea1dc64",
   "metadata": {},
   "outputs": [],
   "source": []
  }
 ],
 "metadata": {
  "kernelspec": {
   "display_name": "",
   "name": ""
  },
  "language_info": {
   "name": ""
  }
 },
 "nbformat": 4,
 "nbformat_minor": 5
}
